{
 "cells": [
  {
   "cell_type": "markdown",
   "metadata": {},
   "source": [
    "### My Approach to the Task\n",
    "\n",
    "#### 1. Data Exploration and Preprocessing\n",
    "Since I’m a bit rusty with ML, I’ll start by getting a feel for the dataset (`appointment_data.csv`) through exploratory data analysis (EDA). The goal is to understand the features, spot any issues, and prep the data for modeling. Here’s how I’ll go about it:\n",
    "\n",
    "- **Loading the Data**: I’ll use pandas to read the CSV file. Since `AppointmentDay` and `ScheduledDay` are dates, I’ll parse them as datetime objects right away. For `AppointmentTime`, which is a time string (e.g., \"15:00\"), I’ll handle it separately.\n",
    "  \n",
    "- **Dropping Identifiers**: Looking at the sample rows, `PatientID` and `AppointmentID` seem like unique identifiers with no predictive power. I’ll drop them to keep the dataset focused on relevant features.\n",
    "\n",
    "- **Checking for Missing Values**: I’ll use `df.isnull().sum()` to see if any columns have missing data. If there are, I’ll fill numerical features like `Age` or `WaitingTime` with the median (to avoid skew from outliers) and categorical ones like `Gender` with the most frequent value. Since the sample looks clean, I’ll assume minimal missingness but include handling code just in case.\n",
    "\n",
    "- **Data Types and Validation**: I’ll ensure `AppointmentDay` and `ScheduledDay` are datetime, and numerical features like `Age` and `WaitingTime` make sense (e.g., `Age >= 0`, `WaitingTime >= 0`). Any weird values (like negative ages) will get flagged.\n",
    "\n",
    "- **Exploring Distributions**: I’ll check the balance of the target `NoShow` (0 for show, 1 for no-show) to see if it’s imbalanced—maybe 80% show up and 20% don’t, which is common in these scenarios. For numerical features like `Age`, `WaitingTime`, and `PreviousNoShows`, I’ll plot histograms or boxplots. For categorical ones like `Gender`, `Neighborhood`, and `DayOfWeek`, I’ll look at counts and no-show rates.\n",
    "\n",
    "- **Encoding Categorical Variables**: Models need numbers, so:\n",
    "  - `Gender` (Male/Female): Simple label encoding (e.g., 0 and 1).\n",
    "  - `Neighborhood` and `DayOfWeek`: One-hot encoding, since they have multiple categories. I’ll drop the first category to avoid multicollinearity. If `Neighborhood` has too many unique values (say, >20), I might rethink this, but I’ll start with one-hot for simplicity.\n",
    "  - Binary features like `Scholarship`, `Hypertension`, etc., are already 0/1, so no changes needed.\n",
    "\n",
    "- **Feature Engineering**: I’ll create a new feature from `AppointmentTime` by extracting the hour and categorizing it:\n",
    "  - Morning: <12\n",
    "  - Afternoon: 12–17\n",
    "  - Evening: 17+\n",
    "  This might capture patterns like higher no-shows for early or late appointments. Since `WaitingTime` and `DayOfWeek` are provided, I’ll drop `AppointmentDay` and `ScheduledDay` after confirming no other features are needed from them. `PreviousNoShows` looks super relevant—patients who’ve missed before might miss again.\n",
    "\n",
    "- **Visualizations**: I’ll plot things like:\n",
    "  - No-show rate by `Gender`, `DayOfWeek`, and `SMS_received`.\n",
    "  - `WaitingTime` vs. `NoShow` (maybe binned into 0–7, 7–14 days, etc.).\n",
    "  - `PreviousNoShows` vs. no-show rate.\n",
    "  These will help spot trends and justify my feature choices.\n",
    "\n",
    "#### 2. Model Development\n",
    "With the data prepped, I’ll build some classification models. Since it’s been a while, I’ll stick to familiar, straightforward algorithms from scikit-learn rather than jumping into the latest deep learning stuff I used to tinker with.\n",
    "\n",
    "- **Splitting the Data**: I’ll split into 80% training and 20% testing sets using `train_test_split`, with `stratify=y` to keep the `NoShow` balance consistent.\n",
    "\n",
    "- **Handling Class Imbalance**: If `NoShow` is imbalanced (e.g., 20% 1s), I’ll use `class_weight='balanced'` in the models to give more weight to the minority class (no-shows). I could try SMOTE, but I’ll keep it simple for now.\n",
    "\n",
    "- **Model Selection**:\n",
    "  - **Logistic Regression**: A solid baseline—easy to interpret coefficients as odds ratios.\n",
    "  - **Decision Tree**: Good for capturing non-linear patterns, though prone to overfitting.\n",
    "  - **Random Forest**: An ensemble method that’s robust and handles lots of features well.\n",
    "\n",
    "- **Training and Evaluation**: I’ll train each model on the training set and test on the test set. Metrics I’ll use:\n",
    "  - Accuracy: Overall correctness.\n",
    "  - Precision: How many predicted no-shows actually didn’t show.\n",
    "  - Recall: How many actual no-shows we caught.\n",
    "  - F1-score: Balances precision and recall (key if imbalanced).\n",
    "  - ROC-AUC: How well the model separates classes across thresholds.\n",
    "  Since no-shows might be rare, I’ll focus on F1 and ROC-AUC over accuracy.\n",
    "\n",
    "- **Hyperparameter Tuning**: I’ll pick the best model (say, Random Forest) and tune it with `GridSearchCV`. For Random Forest, I’ll try:\n",
    "  - `n_estimators`: [50, 100, 200]\n",
    "  - `max_depth`: [None, 10, 20]\n",
    "  - `min_samples_split`: [2, 5]\n",
    "  I’ll use 5-fold cross-validation with F1-score as the metric.\n",
    "\n",
    "#### 3. Analysis and Interpretation\n",
    "Once I’ve got a tuned model, I’ll dig into what’s driving predictions:\n",
    "- **Feature Importance**: For Random Forest, I’ll check `feature_importances_` to see which features (e.g., `PreviousNoShows`, `WaitingTime`, `SMS_received`) matter most. For Logistic Regression, I’ll look at coefficients.\n",
    "- **Insights**: I’ll tie this back to the EDA—e.g., if `SMS_received` reduces no-shows, that’s actionable for the clinic.\n",
    "\n",
    "#### Deliverables\n",
    "I’ll put everything in a Jupyter Notebook:\n",
    "- **EDA**: Visualizations and summary stats.\n",
    "- **Preprocessing**: Code for cleaning, encoding, and feature creation.\n",
    "- **Modeling**: Model training, evaluation, and tuning.\n",
    "- **Results**: Feature importance and key insights.\n",
    "I’ll push it to GitHub by Tuesday.\n",
    "\n",
    "---\n",
    "\n",
    "### Solution Method\n",
    "Here’s how I solved it and why:\n",
    "\n",
    "1. **EDA and Preprocessing**:\n",
    "   - **Why**: I needed to understand the data and clean it up. Dropping identifiers keeps the focus on predictive features. Encoding categoricals and creating `TimeOfDay` adds useful info without overcomplicating things.\n",
    "   - **How**: Used pandas for data wrangling, seaborn for plots, and scikit-learn for encoding. Kept it simple since I’m not up on the latest ML tricks.\n",
    "\n",
    "2. **Modeling**:\n",
    "   - **Why**: Logistic Regression, Decision Trees, and Random Forest are classics I’m comfortable with from my ML days. They’re interpretable and handle classification well. Class weights address imbalance without fancy oversampling.\n",
    "   - **How**: Trained models with scikit-learn, evaluated with multiple metrics, and tuned the best one with GridSearchCV for a solid balance of performance and simplicity.\n",
    "\n",
    "3. **Interpretation**:\n",
    "   - **Why**: The clinic needs actionable insights, not just a black-box model. Feature importance ties predictions to real-world factors.\n",
    "   - **How**: Used model outputs to highlight key drivers like `PreviousNoShows` or `SMS_received`.\n",
    "\n",
    "4. **Why This Way**: My background is a mix of self-taught ML and recent FullStack work, so I leaned on familiar tools (pandas, scikit-learn) and a systematic approach. I avoided cutting-edge stuff like XGBoost or neural nets since I haven’t touched those recently and wanted to meet the 3-day deadline with reliable results."
   ]
  },
  {
   "cell_type": "markdown",
   "metadata": {},
   "source": [
    "# Healthcare Appointment No-Show Prediction\n",
    "\n",
    "This notebook aims to predict whether a patient will miss their healthcare appointment (no-show) based on historical data. The dataset includes patient demographics, appointment details, and medical history. The goal is to help clinics identify high-risk patients and reduce no-show rates.\n",
    "\n",
    "## Table of Contents\n",
    "\n",
    "1. [Data Loading and Exploration](#data-loading-and-exploration)\n",
    "2. [Data Preprocessing](#data-preprocessing)\n",
    "3. [Exploratory Data Analysis (EDA)](#exploratory-data-analysis-eda)\n",
    "4. [Model Development](#model-development)\n",
    "5. [Model Evaluation](#model-evaluation)\n",
    "6. [Hyperparameter Tuning](#hyperparameter-tuning)\n",
    "7. [Feature Importance and Interpretation](#feature-importance-and-interpretation)\n",
    "8. [Conclusion](#conclusion)"
   ]
  },
  {
   "cell_type": "markdown",
   "metadata": {},
   "source": [
    "## Data Loading and Exploration\n",
    "\n",
    "\n",
    "\n",
    "In this section, we load the dataset and perform initial exploration to understand its structure, check for missing values, and identify any immediate issues."
   ]
  },
  {
   "cell_type": "code",
   "execution_count": 13,
   "metadata": {},
   "outputs": [
    {
     "data": {
      "text/html": [
       "<div>\n",
       "<style scoped>\n",
       "    .dataframe tbody tr th:only-of-type {\n",
       "        vertical-align: middle;\n",
       "    }\n",
       "\n",
       "    .dataframe tbody tr th {\n",
       "        vertical-align: top;\n",
       "    }\n",
       "\n",
       "    .dataframe thead th {\n",
       "        text-align: right;\n",
       "    }\n",
       "</style>\n",
       "<table border=\"1\" class=\"dataframe\">\n",
       "  <thead>\n",
       "    <tr style=\"text-align: right;\">\n",
       "      <th></th>\n",
       "      <th>PatientID</th>\n",
       "      <th>AppointmentID</th>\n",
       "      <th>Gender</th>\n",
       "      <th>Age</th>\n",
       "      <th>Neighborhood</th>\n",
       "      <th>Scholarship</th>\n",
       "      <th>Hypertension</th>\n",
       "      <th>Diabetes</th>\n",
       "      <th>Alcoholism</th>\n",
       "      <th>Disability</th>\n",
       "      <th>SMS_received</th>\n",
       "      <th>AppointmentDay</th>\n",
       "      <th>ScheduledDay</th>\n",
       "      <th>DayOfWeek</th>\n",
       "      <th>AppointmentTime</th>\n",
       "      <th>WaitingTime</th>\n",
       "      <th>PreviousNoShows</th>\n",
       "      <th>NoShow</th>\n",
       "    </tr>\n",
       "  </thead>\n",
       "  <tbody>\n",
       "    <tr>\n",
       "      <th>0</th>\n",
       "      <td>861</td>\n",
       "      <td>1</td>\n",
       "      <td>Female</td>\n",
       "      <td>28</td>\n",
       "      <td>Westside</td>\n",
       "      <td>0</td>\n",
       "      <td>0</td>\n",
       "      <td>0</td>\n",
       "      <td>0</td>\n",
       "      <td>1</td>\n",
       "      <td>0</td>\n",
       "      <td>2023-11-29</td>\n",
       "      <td>2023-11-20</td>\n",
       "      <td>Wednesday</td>\n",
       "      <td>15:00</td>\n",
       "      <td>9</td>\n",
       "      <td>1</td>\n",
       "      <td>0</td>\n",
       "    </tr>\n",
       "    <tr>\n",
       "      <th>1</th>\n",
       "      <td>1295</td>\n",
       "      <td>2</td>\n",
       "      <td>Female</td>\n",
       "      <td>71</td>\n",
       "      <td>Eastview</td>\n",
       "      <td>0</td>\n",
       "      <td>0</td>\n",
       "      <td>0</td>\n",
       "      <td>0</td>\n",
       "      <td>0</td>\n",
       "      <td>1</td>\n",
       "      <td>2023-12-06</td>\n",
       "      <td>2023-11-29</td>\n",
       "      <td>Wednesday</td>\n",
       "      <td>10:00</td>\n",
       "      <td>7</td>\n",
       "      <td>0</td>\n",
       "      <td>0</td>\n",
       "    </tr>\n",
       "    <tr>\n",
       "      <th>2</th>\n",
       "      <td>1131</td>\n",
       "      <td>3</td>\n",
       "      <td>Male</td>\n",
       "      <td>32</td>\n",
       "      <td>Hillcrest</td>\n",
       "      <td>1</td>\n",
       "      <td>0</td>\n",
       "      <td>0</td>\n",
       "      <td>1</td>\n",
       "      <td>0</td>\n",
       "      <td>0</td>\n",
       "      <td>2023-12-05</td>\n",
       "      <td>2023-11-23</td>\n",
       "      <td>Tuesday</td>\n",
       "      <td>16:45</td>\n",
       "      <td>12</td>\n",
       "      <td>1</td>\n",
       "      <td>0</td>\n",
       "    </tr>\n",
       "    <tr>\n",
       "      <th>3</th>\n",
       "      <td>1096</td>\n",
       "      <td>4</td>\n",
       "      <td>Female</td>\n",
       "      <td>34</td>\n",
       "      <td>Southpark</td>\n",
       "      <td>0</td>\n",
       "      <td>0</td>\n",
       "      <td>0</td>\n",
       "      <td>0</td>\n",
       "      <td>0</td>\n",
       "      <td>0</td>\n",
       "      <td>2023-10-08</td>\n",
       "      <td>2023-10-07</td>\n",
       "      <td>Sunday</td>\n",
       "      <td>17:30</td>\n",
       "      <td>1</td>\n",
       "      <td>0</td>\n",
       "      <td>0</td>\n",
       "    </tr>\n",
       "    <tr>\n",
       "      <th>4</th>\n",
       "      <td>1639</td>\n",
       "      <td>5</td>\n",
       "      <td>Male</td>\n",
       "      <td>30</td>\n",
       "      <td>Pinegrove</td>\n",
       "      <td>0</td>\n",
       "      <td>1</td>\n",
       "      <td>0</td>\n",
       "      <td>0</td>\n",
       "      <td>0</td>\n",
       "      <td>0</td>\n",
       "      <td>2023-09-09</td>\n",
       "      <td>2023-08-16</td>\n",
       "      <td>Saturday</td>\n",
       "      <td>10:15</td>\n",
       "      <td>24</td>\n",
       "      <td>1</td>\n",
       "      <td>0</td>\n",
       "    </tr>\n",
       "  </tbody>\n",
       "</table>\n",
       "</div>"
      ],
      "text/plain": [
       "   PatientID  AppointmentID  Gender  Age Neighborhood  Scholarship  \\\n",
       "0        861              1  Female   28     Westside            0   \n",
       "1       1295              2  Female   71     Eastview            0   \n",
       "2       1131              3    Male   32    Hillcrest            1   \n",
       "3       1096              4  Female   34    Southpark            0   \n",
       "4       1639              5    Male   30    Pinegrove            0   \n",
       "\n",
       "   Hypertension  Diabetes  Alcoholism  Disability  SMS_received  \\\n",
       "0             0         0           0           1             0   \n",
       "1             0         0           0           0             1   \n",
       "2             0         0           1           0             0   \n",
       "3             0         0           0           0             0   \n",
       "4             1         0           0           0             0   \n",
       "\n",
       "  AppointmentDay ScheduledDay  DayOfWeek AppointmentTime  WaitingTime  \\\n",
       "0     2023-11-29   2023-11-20  Wednesday           15:00            9   \n",
       "1     2023-12-06   2023-11-29  Wednesday           10:00            7   \n",
       "2     2023-12-05   2023-11-23    Tuesday           16:45           12   \n",
       "3     2023-10-08   2023-10-07     Sunday           17:30            1   \n",
       "4     2023-09-09   2023-08-16   Saturday           10:15           24   \n",
       "\n",
       "   PreviousNoShows  NoShow  \n",
       "0                1       0  \n",
       "1                0       0  \n",
       "2                1       0  \n",
       "3                0       0  \n",
       "4                1       0  "
      ]
     },
     "execution_count": 13,
     "metadata": {},
     "output_type": "execute_result"
    }
   ],
   "source": [
    "import pandas as pd\n",
    "import numpy as np\n",
    "import matplotlib.pyplot as plt\n",
    "import seaborn as sns\n",
    "\n",
    "# Load the dataset\n",
    "df = pd.read_csv('data/appointment_data.csv', parse_dates=['AppointmentDay', 'ScheduledDay'])\n",
    "\n",
    "# Display the first few rows\n",
    "df.head()"
   ]
  },
  {
   "cell_type": "code",
   "execution_count": 14,
   "metadata": {},
   "outputs": [
    {
     "name": "stdout",
     "output_type": "stream",
     "text": [
      "PatientID          0\n",
      "AppointmentID      0\n",
      "Gender             0\n",
      "Age                0\n",
      "Neighborhood       0\n",
      "Scholarship        0\n",
      "Hypertension       0\n",
      "Diabetes           0\n",
      "Alcoholism         0\n",
      "Disability         0\n",
      "SMS_received       0\n",
      "AppointmentDay     0\n",
      "ScheduledDay       0\n",
      "DayOfWeek          0\n",
      "AppointmentTime    0\n",
      "WaitingTime        0\n",
      "PreviousNoShows    0\n",
      "NoShow             0\n",
      "dtype: int64\n"
     ]
    }
   ],
   "source": [
    "# Check for missing values\n",
    "print(df.isnull().sum())"
   ]
  },
  {
   "cell_type": "code",
   "execution_count": 15,
   "metadata": {},
   "outputs": [],
   "source": [
    "# Drop unnecessary columns (identifiers)\n",
    "df = df.drop(['PatientID', 'AppointmentID'], axis=1)"
   ]
  },
  {
   "cell_type": "markdown",
   "metadata": {},
   "source": [
    "## Data Preprocessing\n",
    "\n",
    "We preprocess the data by handling categorical variables, creating new features, and preparing the dataset for modeling\n",
    "\n",
    "- **AppointmentTime**: Extract the hour and categorize into 'Morning', 'Afternoon', or 'Evening'\n",
    "- **Categorical Encoding**: Use label encoding for binary categories and one-hot encoding for multi-category variables.\n",
    "- **Feature Removal**: Drop original date and time columns after feature engineering."
   ]
  },
  {
   "cell_type": "code",
   "execution_count": 16,
   "metadata": {},
   "outputs": [],
   "source": [
    "# Handle AppointmentTime: Extract hour and create TimeOfDay\n",
    "df['AppointmentHour'] = pd.to_datetime(df['AppointmentTime'], format='%H:%M').dt.hour\n",
    "df['TimeOfDay'] = df['AppointmentHour'].apply(lambda x: 'Morning' if x < 12 else 'Afternoon' if x < 17 else 'Evening')\n",
    "\n",
    "# Drop original date and time columns\n",
    "df = df.drop(['AppointmentTime', 'AppointmentHour', 'AppointmentDay', 'ScheduledDay'], axis=1)"
   ]
  },
  {
   "cell_type": "code",
   "execution_count": 17,
   "metadata": {},
   "outputs": [],
   "source": [
    "# Encode categorical variables\n",
    "from sklearn.preprocessing import LabelEncoder\n",
    "\n",
    "le = LabelEncoder()\n",
    "df['Gender'] = le.fit_transform(df['Gender'])\n",
    "\n",
    "# One-hot encode multi-category variables\n",
    "df = pd.get_dummies(df, columns=['Neighborhood', 'DayOfWeek', 'TimeOfDay'], drop_first=True)"
   ]
  },
  {
   "cell_type": "markdown",
   "metadata": {},
   "source": [
    "## Exploratory Data Analysis (EDA)\n",
    "\n",
    "We perform EDA to understand the distribution of the target variable (`NoShow`) and explore relationships between features and no-show rates.\n",
    "\n",
    "- **Target Distribution**: Check the balance of the `NoShow` variable.\n",
    "- **Visualizations**: Use count plots to see no-show rates across categorical features like `Gender`."
   ]
  },
  {
   "cell_type": "code",
   "execution_count": 24,
   "metadata": {},
   "outputs": [
    {
     "name": "stdout",
     "output_type": "stream",
     "text": [
      "0    0.6232\n",
      "1    0.3768\n",
      "Name: NoShow, dtype: float64\n"
     ]
    },
    {
     "data": {
      "image/png": "[encoded data removed]",
      "text/plain": [
       "<Figure size 800x600 with 1 Axes>"
      ]
     },
     "metadata": {},
     "output_type": "display_data"
    }
   ],
   "source": [
    "# Check the distribution of the target variable\n",
    "print(df['NoShow'].value_counts(normalize=True))\n",
    "\n",
    "# Visualize no-show rates by Gender\n",
    "plt.figure(figsize=(8, 6))\n",
    "sns.countplot(x='Gender', hue='NoShow', data=df)\n",
    "plt.title('No-Show Rates by Gender')\n",
    "plt.xlabel('Gender (0 = Female, 1 = Male)')\n",
    "plt.ylabel('Count')\n",
    "plt.savefig('outputs/no_show_by_gender.png', dpi=300, bbox_inches='tight')\n",
    "plt.show()"
   ]
  },
  {
   "cell_type": "markdown",
   "metadata": {},
   "source": [
    "## Model Development\n",
    "\n",
    "We split the data into training and testing sets and train multiple classification models to predict no-shows.\n",
    "\n",
    "- **Models**: Logistic Regression, Decision Tree, Random Forest.\n",
    "- **Class Imbalance**: Use `class_weight='balanced'` to handle imbalance in the target variable."
   ]
  },
  {
   "cell_type": "code",
   "execution_count": 19,
   "metadata": {},
   "outputs": [],
   "source": [
    "from sklearn.model_selection import train_test_split\n",
    "\n",
    "# Split the data\n",
    "X = df.drop('NoShow', axis=1)\n",
    "y = df['NoShow']\n",
    "X_train, X_test, y_train, y_test = train_test_split(X, y, test_size=0.2, random_state=42, stratify=y)"
   ]
  },
  {
   "cell_type": "code",
   "execution_count": 20,
   "metadata": {},
   "outputs": [],
   "source": [
    "from sklearn.linear_model import LogisticRegression\n",
    "from sklearn.tree import DecisionTreeClassifier\n",
    "from sklearn.ensemble import RandomForestClassifier\n",
    "\n",
    "# Initialize models with class_weight='balanced'\n",
    "models = {\n",
    "    'Logistic Regression': LogisticRegression(class_weight='balanced', max_iter=1000),\n",
    "    'Decision Tree': DecisionTreeClassifier(class_weight='balanced'),\n",
    "    'Random Forest': RandomForestClassifier(class_weight='balanced', n_estimators=100)\n",
    "}"
   ]
  },
  {
   "cell_type": "markdown",
   "metadata": {},
   "source": [
    "## Model Evaluation\n",
    "\n",
    "We evaluate each model's performance using accuracy, F1-score, and ROC-AUC to account for class imbalance."
   ]
  },
  {
   "cell_type": "code",
   "execution_count": 25,
   "metadata": {},
   "outputs": [
    {
     "name": "stdout",
     "output_type": "stream",
     "text": [
      "Logistic Regression:\n",
      "Accuracy: 0.791\n",
      "F1-score: 0.732\n",
      "ROC-AUC: 0.872\n",
      "------------------------------\n",
      "Decision Tree:\n",
      "Accuracy: 0.711\n",
      "F1-score: 0.629\n",
      "ROC-AUC: 0.699\n",
      "------------------------------\n",
      "Random Forest:\n",
      "Accuracy: 0.806\n",
      "F1-score: 0.723\n",
      "ROC-AUC: 0.848\n",
      "------------------------------\n",
      "Metrics saved to 'outputs/model_metrics.csv'\n"
     ]
    }
   ],
   "source": [
    "from sklearn.metrics import accuracy_score, f1_score, roc_auc_score\n",
    "\n",
    "# Store metrics in a list for saving\n",
    "metrics_data = []\n",
    "\n",
    "for name, model in models.items():\n",
    "    model.fit(X_train, y_train)\n",
    "    y_pred = model.predict(X_test)\n",
    "    y_pred_proba = model.predict_proba(X_test)[:, 1]\n",
    "    metrics = {\n",
    "        'Model': name,\n",
    "        'Accuracy': accuracy_score(y_test, y_pred),\n",
    "        'F1-score': f1_score(y_test, y_pred),\n",
    "        'ROC-AUC': roc_auc_score(y_test, y_pred_proba)\n",
    "    }\n",
    "    metrics_data.append(metrics)\n",
    "    print(f\"{name}:\")\n",
    "    print(f\"Accuracy: {metrics['Accuracy']:.3f}\")\n",
    "    print(f\"F1-score: {metrics['F1-score']:.3f}\")\n",
    "    print(f\"ROC-AUC: {metrics['ROC-AUC']:.3f}\")\n",
    "    print(\"-\" * 30)\n",
    "\n",
    "# Save metrics to CSV\n",
    "metrics_df = pd.DataFrame(metrics_data)\n",
    "metrics_df.to_csv('outputs/model_metrics.csv', index=False)\n",
    "print(\"Metrics saved to 'outputs/model_metrics.csv'\")"
   ]
  },
  {
   "cell_type": "markdown",
   "metadata": {},
   "source": [
    "## Hyperparameter Tuning\n",
    "\n",
    "We perform hyperparameter tuning on the best-performing model (assumed to be Random Forest) using GridSearchCV to optimize its performance."
   ]
  },
  {
   "cell_type": "code",
   "execution_count": 22,
   "metadata": {},
   "outputs": [
    {
     "name": "stdout",
     "output_type": "stream",
     "text": [
      "Best Parameters: {'max_depth': 10, 'min_samples_split': 2, 'n_estimators': 50}\n"
     ]
    }
   ],
   "source": [
    "from sklearn.model_selection import GridSearchCV\n",
    "\n",
    "# Define parameter grid for Random Forest\n",
    "param_grid = {\n",
    "    'n_estimators': [50, 100, 200],\n",
    "    'max_depth': [None, 10, 20],\n",
    "    'min_samples_split': [2, 5]\n",
    "}\n",
    "\n",
    "# Initialize GridSearchCV\n",
    "grid_search = GridSearchCV(RandomForestClassifier(class_weight='balanced'), param_grid, cv=5, scoring='f1')\n",
    "\n",
    "# Fit the model\n",
    "grid_search.fit(X_train, y_train)\n",
    "\n",
    "# Get the best model\n",
    "best_model = grid_search.best_estimator_\n",
    "\n",
    "# Print the best parameters\n",
    "print(\"Best Parameters:\", grid_search.best_params_)"
   ]
  },
  {
   "cell_type": "markdown",
   "metadata": {},
   "source": [
    "## Feature Importance and Interpretation\n",
    "\n",
    "We analyze the feature importance from the best model to understand which factors most influence no-show predictions."
   ]
  },
  {
   "cell_type": "code",
   "execution_count": 26,
   "metadata": {},
   "outputs": [
    {
     "name": "stdout",
     "output_type": "stream",
     "text": [
      "Feature importances saved to 'outputs/feature_importances.csv'\n",
      "              feature  importance\n",
      "9     PreviousNoShows    0.604288\n",
      "1                 Age    0.084632\n",
      "8         WaitingTime    0.078324\n",
      "7        SMS_received    0.034574\n",
      "0              Gender    0.014453\n",
      "26  TimeOfDay_Morning    0.012557\n",
      "3        Hypertension    0.012182\n",
      "2         Scholarship    0.011298\n",
      "25  TimeOfDay_Evening    0.010234\n",
      "4            Diabetes    0.010032\n"
     ]
    },
    {
     "data": {
      "image/png": "[encoded data removed]",
      "text/plain": [
       "<Figure size 1000x600 with 1 Axes>"
      ]
     },
     "metadata": {},
     "output_type": "display_data"
    }
   ],
   "source": [
    "# Get feature importances from the best model\n",
    "importances = pd.DataFrame({'feature': X.columns, 'importance': best_model.feature_importances_})\n",
    "\n",
    "# Sort by importance\n",
    "importances = importances.sort_values('importance', ascending=False)\n",
    "\n",
    "# Save feature importances to CSV\n",
    "importances.to_csv('outputs/feature_importances.csv', index=False)\n",
    "print(\"Feature importances saved to 'outputs/feature_importances.csv'\")\n",
    "\n",
    "# Display the top features\n",
    "print(importances.head(10))\n",
    "\n",
    "# Visualize feature importance\n",
    "plt.figure(figsize=(10, 6))\n",
    "sns.barplot(x='importance', y='feature', data=importances.head(10))\n",
    "plt.title('Top 10 Feature Importances')\n",
    "plt.xlabel('Importance')\n",
    "plt.ylabel('Feature')\n",
    "plt.savefig('outputs/feature_importance_plot.png', dpi=300, bbox_inches='tight')\n",
    "plt.show()"
   ]
  },
  {
   "cell_type": "markdown",
   "metadata": {},
   "source": [
    "## Conclusion\n",
    "\n",
    "In this project, we developed a predictive model to identify patients likely to miss their healthcare appointments. Through exploratory data analysis, we uncovered key patterns, such as the impact of previous no-shows and waiting times on future attendance. The Random Forest model, after hyperparameter tuning, provided the best performance, with key features like `PreviousNoShows`, `WaitingTime`, and `SMS_received` driving predictions.\n",
    "\n",
    "These insights can help the clinic target interventions, such as reminders or scheduling adjustments, to reduce no-show rates and improve resource allocation."
   ]
  }
 ],
 "metadata": {
  "kernelspec": {
   "display_name": "base",
   "language": "python",
   "name": "python3"
  },
  "language_info": {
   "codemirror_mode": {
    "name": "ipython",
    "version": 3
   },
   "file_extension": ".py",
   "mimetype": "text/x-python",
   "name": "python",
   "nbconvert_exporter": "python",
   "pygments_lexer": "ipython3",
   "version": "3.11.7"
  }
 },
 "nbformat": 4,
 "nbformat_minor": 4
}
